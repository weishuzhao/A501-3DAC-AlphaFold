{
 "cells": [
  {
   "cell_type": "code",
   "execution_count": 10,
   "metadata": {},
   "outputs": [],
   "source": [
    "import matplotlib.pyplot as plt\n",
    "import numpy as np\n",
    "import pandas as pd\n",
    "import seaborn as sns\n",
    "from scipy.cluster.hierarchy import dendrogram, linkage,fcluster\n",
    "import matplotlib as mpl\n"
   ]
  },
  {
   "cell_type": "code",
   "execution_count": 11,
   "metadata": {},
   "outputs": [
    {
     "data": {
      "text/plain": [
       "Index(['index', 'species', 'name', 'EC number', 'sequence'], dtype='object')"
      ]
     },
     "execution_count": 11,
     "metadata": {},
     "output_type": "execute_result"
    }
   ],
   "source": [
    "# import dataframe\n",
    "overall_df = pd.read_csv(\"overall_results.csv\")\n",
    "ali_RMSD_mat = np.loadtxt(\"data/ali_RMSD_mat.txt\")\n",
    "ali_strc_mat = np.loadtxt(\"data/ali_strc_mat.txt\")\n",
    "seq_iden_mat = np.loadtxt(\"data/seq_iden_mat.txt\")\n",
    "overall_df.columns"
   ]
  },
  {
   "cell_type": "code",
   "execution_count": 12,
   "metadata": {},
   "outputs": [
    {
     "data": {
      "text/html": [
       "<div>\n",
       "<style scoped>\n",
       "    .dataframe tbody tr th:only-of-type {\n",
       "        vertical-align: middle;\n",
       "    }\n",
       "\n",
       "    .dataframe tbody tr th {\n",
       "        vertical-align: top;\n",
       "    }\n",
       "\n",
       "    .dataframe thead th {\n",
       "        text-align: right;\n",
       "    }\n",
       "</style>\n",
       "<table border=\"1\" class=\"dataframe\">\n",
       "  <thead>\n",
       "    <tr style=\"text-align: right;\">\n",
       "      <th></th>\n",
       "      <th>index</th>\n",
       "      <th>species</th>\n",
       "      <th>name</th>\n",
       "      <th>EC number</th>\n",
       "      <th>sequence</th>\n",
       "    </tr>\n",
       "  </thead>\n",
       "  <tbody>\n",
       "    <tr>\n",
       "      <th>0</th>\n",
       "      <td>SPC_1</td>\n",
       "      <td>Heimdallarchaeota archaeon</td>\n",
       "      <td>Asgard_Ca_Heimdallarchaeota_archaeon_B3Heim_PW...</td>\n",
       "      <td>1.2.7.11</td>\n",
       "      <td>MGTESQRYDKKLFKANLKPNWCPGCGDYGLLSASTKALSKLKFQPS...</td>\n",
       "    </tr>\n",
       "    <tr>\n",
       "      <th>1</th>\n",
       "      <td>SPC_2</td>\n",
       "      <td>Heimdallarchaeota archaeon</td>\n",
       "      <td>Asgard_Ca_Heimdallarchaeota_archaeon_B3Heim_PW...</td>\n",
       "      <td>1.2.1.59</td>\n",
       "      <td>MAKNMANVGVVGYGVIGKRVADAVAAQSDMKLVGVADIISDVRLRI...</td>\n",
       "    </tr>\n",
       "    <tr>\n",
       "      <th>2</th>\n",
       "      <td>SPC_3</td>\n",
       "      <td>Heimdallarchaeota archaeon</td>\n",
       "      <td>Asgard_Ca_Heimdallarchaeota_archaeon_B3Heim_PW...</td>\n",
       "      <td>2.7.1.40</td>\n",
       "      <td>MVTTKIVATIGPASDNILVLKDLLKYVDVCRLNFSHGAYPDHLERY...</td>\n",
       "    </tr>\n",
       "    <tr>\n",
       "      <th>3</th>\n",
       "      <td>SPC_4</td>\n",
       "      <td>Heimdallarchaeota archaeon</td>\n",
       "      <td>Asgard_Ca_Heimdallarchaeota_archaeon_B3Heim_PW...</td>\n",
       "      <td>5.3.1.1</td>\n",
       "      <td>MRRIVIGGNWKMQITSNNEAVRIADDIAQGLSTMSNVDVFIAPSFT...</td>\n",
       "    </tr>\n",
       "    <tr>\n",
       "      <th>4</th>\n",
       "      <td>SPC_5</td>\n",
       "      <td>Heimdallarchaeota archaeon</td>\n",
       "      <td>Asgard_Ca_Heimdallarchaeota_archaeon_B3Heim_PW...</td>\n",
       "      <td>4.2.1.11</td>\n",
       "      <td>MRSKFQLKVKKLHAREIFDSRGNPTVEVECHLEQGVVTRGMVPSGA...</td>\n",
       "    </tr>\n",
       "    <tr>\n",
       "      <th>...</th>\n",
       "      <td>...</td>\n",
       "      <td>...</td>\n",
       "      <td>...</td>\n",
       "      <td>...</td>\n",
       "      <td>...</td>\n",
       "    </tr>\n",
       "    <tr>\n",
       "      <th>171</th>\n",
       "      <td>SPC_172</td>\n",
       "      <td>3DAC</td>\n",
       "      <td>3DAC_137</td>\n",
       "      <td>2.7.2.3</td>\n",
       "      <td>MIAMELHKLDEVKVKGKRVLVRVDFNVPLTSDGEVADDTRINAAIP...</td>\n",
       "    </tr>\n",
       "    <tr>\n",
       "      <th>172</th>\n",
       "      <td>SPC_173</td>\n",
       "      <td>3DAC</td>\n",
       "      <td>3DAC_127</td>\n",
       "      <td>5.4.2.12</td>\n",
       "      <td>MSKKILFVILDGVGDRVLNGRTPLEVAVKPNMDFIAKNGVQGIVDV...</td>\n",
       "    </tr>\n",
       "    <tr>\n",
       "      <th>173</th>\n",
       "      <td>SPC_174</td>\n",
       "      <td>3DAC</td>\n",
       "      <td>3DAC_150</td>\n",
       "      <td>4.2.1.11</td>\n",
       "      <td>MILFKADLAIVDVRGREVIDSRGNPTVEAEVVLEDGTIGVGIVPSG...</td>\n",
       "    </tr>\n",
       "    <tr>\n",
       "      <th>174</th>\n",
       "      <td>SPC_175</td>\n",
       "      <td>3DAC</td>\n",
       "      <td>3DAC_101</td>\n",
       "      <td>2.7.1.40</td>\n",
       "      <td>MFGRKAKIVVTMGPALETEEKIKEAILAGADAFRLNFSHGSHEEHY...</td>\n",
       "    </tr>\n",
       "    <tr>\n",
       "      <th>175</th>\n",
       "      <td>SPC_176</td>\n",
       "      <td>3DAC</td>\n",
       "      <td>3DAC_149</td>\n",
       "      <td>1.2.7.11</td>\n",
       "      <td>MVKKPLPYTYTEEKWIRDRYLPHQWCPGCGIGTILKAVIDAMDDLG...</td>\n",
       "    </tr>\n",
       "  </tbody>\n",
       "</table>\n",
       "<p>176 rows × 5 columns</p>\n",
       "</div>"
      ],
      "text/plain": [
       "       index                     species  \\\n",
       "0      SPC_1  Heimdallarchaeota archaeon   \n",
       "1      SPC_2  Heimdallarchaeota archaeon   \n",
       "2      SPC_3  Heimdallarchaeota archaeon   \n",
       "3      SPC_4  Heimdallarchaeota archaeon   \n",
       "4      SPC_5  Heimdallarchaeota archaeon   \n",
       "..       ...                         ...   \n",
       "171  SPC_172                        3DAC   \n",
       "172  SPC_173                        3DAC   \n",
       "173  SPC_174                        3DAC   \n",
       "174  SPC_175                        3DAC   \n",
       "175  SPC_176                        3DAC   \n",
       "\n",
       "                                                  name EC number  \\\n",
       "0    Asgard_Ca_Heimdallarchaeota_archaeon_B3Heim_PW...  1.2.7.11   \n",
       "1    Asgard_Ca_Heimdallarchaeota_archaeon_B3Heim_PW...  1.2.1.59   \n",
       "2    Asgard_Ca_Heimdallarchaeota_archaeon_B3Heim_PW...  2.7.1.40   \n",
       "3    Asgard_Ca_Heimdallarchaeota_archaeon_B3Heim_PW...   5.3.1.1   \n",
       "4    Asgard_Ca_Heimdallarchaeota_archaeon_B3Heim_PW...  4.2.1.11   \n",
       "..                                                 ...       ...   \n",
       "171                                           3DAC_137   2.7.2.3   \n",
       "172                                           3DAC_127  5.4.2.12   \n",
       "173                                           3DAC_150  4.2.1.11   \n",
       "174                                           3DAC_101  2.7.1.40   \n",
       "175                                           3DAC_149  1.2.7.11   \n",
       "\n",
       "                                              sequence  \n",
       "0    MGTESQRYDKKLFKANLKPNWCPGCGDYGLLSASTKALSKLKFQPS...  \n",
       "1    MAKNMANVGVVGYGVIGKRVADAVAAQSDMKLVGVADIISDVRLRI...  \n",
       "2    MVTTKIVATIGPASDNILVLKDLLKYVDVCRLNFSHGAYPDHLERY...  \n",
       "3    MRRIVIGGNWKMQITSNNEAVRIADDIAQGLSTMSNVDVFIAPSFT...  \n",
       "4    MRSKFQLKVKKLHAREIFDSRGNPTVEVECHLEQGVVTRGMVPSGA...  \n",
       "..                                                 ...  \n",
       "171  MIAMELHKLDEVKVKGKRVLVRVDFNVPLTSDGEVADDTRINAAIP...  \n",
       "172  MSKKILFVILDGVGDRVLNGRTPLEVAVKPNMDFIAKNGVQGIVDV...  \n",
       "173  MILFKADLAIVDVRGREVIDSRGNPTVEAEVVLEDGTIGVGIVPSG...  \n",
       "174  MFGRKAKIVVTMGPALETEEKIKEAILAGADAFRLNFSHGSHEEHY...  \n",
       "175  MVKKPLPYTYTEEKWIRDRYLPHQWCPGCGIGTILKAVIDAMDDLG...  \n",
       "\n",
       "[176 rows x 5 columns]"
      ]
     },
     "execution_count": 12,
     "metadata": {},
     "output_type": "execute_result"
    }
   ],
   "source": [
    "overall_df"
   ]
  },
  {
   "cell_type": "code",
   "execution_count": 13,
   "metadata": {},
   "outputs": [
    {
     "name": "stderr",
     "output_type": "stream",
     "text": [
      "C:\\Users\\85404\\AppData\\Roaming\\Python\\Python36\\site-packages\\ipykernel_launcher.py:13: ClusterWarning: scipy.cluster: The symmetric non-negative hollow observation matrix looks suspiciously like an uncondensed distance matrix\n",
      "  del sys.path[0]\n",
      "C:\\Users\\85404\\AppData\\Roaming\\Python\\Python36\\site-packages\\ipykernel_launcher.py:14: ClusterWarning: scipy.cluster: The symmetric non-negative hollow observation matrix looks suspiciously like an uncondensed distance matrix\n",
      "  \n"
     ]
    }
   ],
   "source": [
    "# Seaborn to draw structure RMSD map\n",
    "EC_list = [\"1.2.7.11\",\"2.7.2.3\",\"4.2.1.11\",\"1.2.1.59\",\"5.3.1.1\",\"5.4.2.12\",\"2.7.1.40\"]\n",
    "\n",
    "for EC_number in EC_list:\n",
    "    index_list = overall_df[overall_df[\"EC number\"] == EC_number].index\n",
    "    \n",
    "    sns.clustermap(ali_RMSD_mat[index_list][:,index_list],\n",
    "                   method=\"average\",\n",
    "                   vmin=0,\n",
    "                   vmax=5,\n",
    "                   xticklabels=overall_df[\"species\"][index_list],\n",
    "                   yticklabels=overall_df[\"species\"][index_list],\n",
    "                   row_linkage=linkage(ali_RMSD_mat[index_list][:,index_list],\"average\"),\n",
    "                   col_linkage=linkage(ali_RMSD_mat[index_list][:,index_list],\"average\"),\n",
    "                   cbar_pos=None,\n",
    "                   cmap=\"viridis\")\n",
    "    \n",
    "    plt.savefig(\"Figure/RMSD_%s.png\"%EC_number)\n",
    "    plt.close()\n"
   ]
  },
  {
   "cell_type": "code",
   "execution_count": 14,
   "metadata": {},
   "outputs": [],
   "source": [
    "# seaborn for sequences\n",
    "EC_list = [\"1.2.7.11\",\"2.7.2.3\",\"4.2.1.11\",\"1.2.1.59\",\"5.3.1.1\",\"5.4.2.12\",\"2.7.1.40\"]\n",
    "\n",
    "for EC_number in EC_list:\n",
    "    index_list = overall_df[overall_df[\"EC number\"] == EC_number].index\n",
    "    \n",
    "    sns.clustermap(seq_iden_mat[index_list][:,index_list],\n",
    "                   method=\"average\",\n",
    "                   vmin=0.25,\n",
    "                   vmax=0.5,\n",
    "                   xticklabels=overall_df[\"species\"][index_list],\n",
    "                   yticklabels=overall_df[\"species\"][index_list],\n",
    "                   row_linkage=linkage(seq_iden_mat[index_list][:,index_list],\"average\"),\n",
    "                   col_linkage=linkage(seq_iden_mat[index_list][:,index_list],\"average\"),\n",
    "                   cbar_pos=None,\n",
    "                   cmap=\"plasma_r\")\n",
    "    \n",
    "    plt.savefig(\"Figure/SEQ_%s.png\"%EC_number)\n",
    "    plt.close()\n"
   ]
  },
  {
   "cell_type": "code",
   "execution_count": 15,
   "metadata": {},
   "outputs": [
    {
     "name": "stderr",
     "output_type": "stream",
     "text": [
      "C:\\Users\\85404\\AppData\\Roaming\\Python\\Python36\\site-packages\\ipykernel_launcher.py:8: ClusterWarning: scipy.cluster: The symmetric non-negative hollow observation matrix looks suspiciously like an uncondensed distance matrix\n",
      "  \n"
     ]
    }
   ],
   "source": [
    "# with ticks\n",
    "\n",
    "\n",
    "EC_list = [\"1.2.7.11\",\"2.7.2.3\",\"4.2.1.11\",\"1.2.1.59\",\"5.3.1.1\",\"5.4.2.12\",\"2.7.1.40\"]\n",
    "\n",
    "for EC_number in EC_list:\n",
    "    index_list = overall_df[overall_df[\"EC number\"] == EC_number].index\n",
    "    Z = linkage(ali_RMSD_mat[index_list][:,index_list],\"average\")\n",
    "    dn = dendrogram(Z)\n",
    "    new_index_list = [index_list[int(i)] for i in dn[\"ivl\"]]\n",
    "    plt.close()\n",
    "\n",
    "    plt.figure(figsize=(12,12))\n",
    "    ax = plt.subplot()\n",
    "    plt.imshow(ali_RMSD_mat[new_index_list][:,new_index_list],vmin=0,vmax=5,cmap=\"viridis\")\n",
    "    plt.xticks(np.arange(0,len(new_index_list),1),overall_df[\"species\"][new_index_list],rotation=90,fontsize=14)\n",
    "    plt.yticks(np.arange(0,len(new_index_list),1),overall_df[\"species\"][new_index_list],fontsize=14)\n",
    "    ax.yaxis.set_ticks_position('right')\n",
    "    ax.spines[\"right\"].set_visible(False)\n",
    "    ax.spines[\"left\"].set_visible(False)\n",
    "    ax.spines[\"top\"].set_visible(False)\n",
    "    ax.spines[\"bottom\"].set_visible(False)\n",
    "    plt.tight_layout()\n",
    "    plt.savefig(\"Figure/new_RMSD_%s.png\"%EC_number)\n",
    "    plt.close()\n",
    "\n",
    "    plt.figure(figsize=(12,12))\n",
    "    ax = plt.subplot()\n",
    "    plt.imshow(seq_iden_mat[new_index_list][:,new_index_list],vmin=0.25,vmax=0.5,cmap=\"plasma_r\")\n",
    "    plt.xticks(np.arange(0,len(new_index_list),1),overall_df[\"species\"][new_index_list],rotation=90,fontsize=14)\n",
    "    plt.yticks(np.arange(0,len(new_index_list),1),overall_df[\"species\"][new_index_list],fontsize=14)\n",
    "    ax.yaxis.set_ticks_position('right')\n",
    "    ax.spines[\"right\"].set_visible(False)\n",
    "    ax.spines[\"left\"].set_visible(False)\n",
    "    ax.spines[\"top\"].set_visible(False)\n",
    "    ax.spines[\"bottom\"].set_visible(False)\n",
    "    plt.tight_layout()\n",
    "    plt.savefig(\"Figure/new_SEQ_%s.png\"%EC_number)\n",
    "    plt.close()\n",
    "\n",
    "\n",
    "\n"
   ]
  },
  {
   "cell_type": "code",
   "execution_count": 16,
   "metadata": {},
   "outputs": [
    {
     "name": "stderr",
     "output_type": "stream",
     "text": [
      "C:\\Users\\85404\\AppData\\Roaming\\Python\\Python36\\site-packages\\ipykernel_launcher.py:7: ClusterWarning: scipy.cluster: The symmetric non-negative hollow observation matrix looks suspiciously like an uncondensed distance matrix\n",
      "  import sys\n"
     ]
    }
   ],
   "source": [
    "# No ticks\n",
    "\n",
    "EC_list = [\"1.2.7.11\",\"2.7.2.3\",\"4.2.1.11\",\"1.2.1.59\",\"5.3.1.1\",\"5.4.2.12\",\"2.7.1.40\"]\n",
    "\n",
    "for EC_number in EC_list:\n",
    "    index_list = overall_df[overall_df[\"EC number\"] == EC_number].index\n",
    "    Z = linkage(ali_RMSD_mat[index_list][:,index_list],\"average\")\n",
    "    dn = dendrogram(Z)\n",
    "    new_index_list = [index_list[int(i)] for i in dn[\"ivl\"]]\n",
    "    plt.close()\n",
    "\n",
    "    plt.figure(figsize=(8,8))\n",
    "    plt.imshow(ali_RMSD_mat[new_index_list][:,new_index_list],vmin=0,vmax=5,cmap=\"viridis\")\n",
    "    plt.xticks([])\n",
    "    plt.yticks([])\n",
    "    plt.tight_layout()\n",
    "    plt.savefig(\"no_ticks_figure/no_legend_RMSD_%s.png\"%EC_number)\n",
    "    plt.close()\n",
    "\n",
    "    plt.figure(figsize=(8,8))\n",
    "    plt.imshow(seq_iden_mat[new_index_list][:,new_index_list],vmin=0.25,vmax=0.6,cmap=\"plasma_r\")\n",
    "    plt.xticks([])\n",
    "    plt.yticks([])\n",
    "    plt.tight_layout()\n",
    "    plt.savefig(\"no_ticks_figure/no_legend_SEQ_%s.png\"%EC_number)\n",
    "    plt.close()\n",
    "\n",
    "\n",
    "\n"
   ]
  },
  {
   "cell_type": "code",
   "execution_count": 17,
   "metadata": {},
   "outputs": [
    {
     "name": "stderr",
     "output_type": "stream",
     "text": [
      "C:\\Users\\85404\\AppData\\Roaming\\Python\\Python36\\site-packages\\ipykernel_launcher.py:4: ClusterWarning: scipy.cluster: The symmetric non-negative hollow observation matrix looks suspiciously like an uncondensed distance matrix\n",
      "  after removing the cwd from sys.path.\n"
     ]
    },
    {
     "data": {
      "image/png": "[encoded data removed]",
      "text/plain": [
       "<Figure size 720x576 with 2 Axes>"
      ]
     },
     "metadata": {
      "needs_background": "light"
     },
     "output_type": "display_data"
    }
   ],
   "source": [
    "EC_number = \"1.2.7.11\"\n",
    "\n",
    "index_list = overall_df[overall_df[\"EC number\"] == EC_number].index\n",
    "Z = linkage(ali_RMSD_mat[index_list][:,index_list],\"average\")\n",
    "dn = dendrogram(Z)\n",
    "new_index_list = [index_list[int(i)] for i in dn[\"ivl\"]]\n",
    "plt.close()\n",
    "\n",
    "plt.figure(figsize=(10,8))\n",
    "plt.imshow(ali_RMSD_mat[new_index_list][:,new_index_list],vmin=0,vmax=5,cmap=\"viridis\")\n",
    "plt.xticks([])\n",
    "plt.yticks([])\n",
    "\n",
    "\n",
    "cbar = plt.colorbar(ticks=[0, 1, 2, 3, 4, 5])\n",
    "cbar.ax.set_yticklabels([0., 1., 2., 3., 4., 5.],fontsize=14)  # horizontal colorbar\n",
    "cbar.ax.set_ylabel(\"Structure RMSD (Å)\",fontsize=16)\n",
    "\n",
    "plt.tight_layout()\n",
    "plt.savefig(\"no_ticks_figure/no_legend_RMSD_%s_colorbar.png\"%EC_number)\n",
    "plt.close()\n",
    "\n",
    "plt.figure(figsize=(10,8))\n",
    "plt.subplot()\n",
    "plt.imshow(seq_iden_mat[new_index_list][:,new_index_list],vmin=0.25,vmax=0.5,cmap=\"plasma_r\")\n",
    "plt.xticks([])\n",
    "plt.yticks([])\n",
    "\n",
    "cbar = plt.colorbar(ticks=[0.25, 0.3, 0.4, 0.5])\n",
    "cbar.ax.set_yticklabels([\"<25%\",\" 30%\",\" 40%\", '>50%'],fontsize=14)  # horizontal colorbar\n",
    "cbar.ax.set_ylabel(\"Sequence Identity\",fontsize=16)\n",
    "\n",
    "plt.tight_layout()\n",
    "plt.savefig(\"no_ticks_figure/no_legend_SEQ_%s_colorbar.png\"%EC_number)\n",
    "\n",
    "\n",
    "\n"
   ]
  },
  {
   "cell_type": "code",
   "execution_count": 18,
   "metadata": {},
   "outputs": [
    {
     "name": "stderr",
     "output_type": "stream",
     "text": [
      "C:\\Users\\85404\\AppData\\Roaming\\Python\\Python36\\site-packages\\ipykernel_launcher.py:4: ClusterWarning: scipy.cluster: The symmetric non-negative hollow observation matrix looks suspiciously like an uncondensed distance matrix\n",
      "  after removing the cwd from sys.path.\n"
     ]
    },
    {
     "data": {
      "image/png": "[encoded data removed]",
      "text/plain": [
       "<Figure size 576x792 with 2 Axes>"
      ]
     },
     "metadata": {
      "needs_background": "light"
     },
     "output_type": "display_data"
    }
   ],
   "source": [
    "EC_number = \"1.2.7.11\"\n",
    "\n",
    "index_list = overall_df[overall_df[\"EC number\"] == EC_number].index\n",
    "Z = linkage(ali_RMSD_mat[index_list][:,index_list],\"average\")\n",
    "dn = dendrogram(Z)\n",
    "new_index_list = [index_list[int(i)] for i in dn[\"ivl\"]]\n",
    "plt.close()\n",
    "\n",
    "plt.figure(figsize=(8,11))\n",
    "plt.imshow(ali_RMSD_mat[new_index_list][:,new_index_list],vmin=0,vmax=5,cmap=\"viridis\")\n",
    "plt.xticks([])\n",
    "plt.yticks([])\n",
    "\n",
    "\n",
    "cbar = plt.colorbar(ticks=[0, 1, 2, 3, 4, 5],orientation=\"horizontal\")\n",
    "cbar.ax.set_xticklabels([0., 1., 2., 3., 4., 5.],fontsize=32)  # horizontal colorbar\n",
    "cbar.ax.set_xlabel(\"Structure RMSD (Å)\",fontsize=36)\n",
    "\n",
    "plt.tight_layout()\n",
    "plt.savefig(\"no_ticks_figure/no_legend_RMSD_%s_colorbar_horizon.png\"%EC_number)\n",
    "plt.close()\n",
    "\n",
    "plt.figure(figsize=(8,11))\n",
    "plt.subplot()\n",
    "plt.imshow(seq_iden_mat[new_index_list][:,new_index_list],vmin=0.25,vmax=0.5,cmap=\"plasma_r\")\n",
    "plt.xticks([])\n",
    "plt.yticks([])\n",
    "\n",
    "cbar = plt.colorbar(ticks=[0.25, 0.3, 0.4, 0.5],orientation=\"horizontal\")\n",
    "cbar.ax.set_xticklabels([\"<25%\",\" 30%\",\" 40%\", '>50%'],fontsize=32)  # horizontal colorbar\n",
    "cbar.ax.set_xlabel(\"Sequence Identity\",fontsize=36)\n",
    "\n",
    "plt.tight_layout()\n",
    "plt.savefig(\"no_ticks_figure/no_legend_SEQ_%s_colorbar_horizon.png\"%EC_number)\n",
    "\n",
    "\n",
    "\n"
   ]
  },
  {
   "cell_type": "code",
   "execution_count": null,
   "metadata": {},
   "outputs": [],
   "source": []
  }
 ],
 "metadata": {
  "interpreter": {
   "hash": "dfcfa9720f164a03024b47cc781cb1ee8e12b921073a994efcfa9b62656775a7"
  },
  "kernelspec": {
   "display_name": "Python 3.7.7 64-bit ('tensorflow': conda)",
   "language": "python",
   "name": "python3"
  },
  "language_info": {
   "codemirror_mode": {
    "name": "ipython",
    "version": 3
   },
   "file_extension": ".py",
   "mimetype": "text/x-python",
   "name": "python",
   "nbconvert_exporter": "python",
   "pygments_lexer": "ipython3",
   "version": "3.6.5"
  },
  "orig_nbformat": 4
 },
 "nbformat": 4,
 "nbformat_minor": 2
}
