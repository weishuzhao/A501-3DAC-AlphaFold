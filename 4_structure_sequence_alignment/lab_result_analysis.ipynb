{
 "cells": [
  {
   "cell_type": "code",
   "execution_count": 1,
   "metadata": {},
   "outputs": [],
   "source": [
    "import matplotlib.pyplot as plt\n",
    "import numpy as np\n",
    "import pandas as pd\n",
    "import seaborn as sns\n",
    "import json\n",
    "from pymol import cmd, CmdException\n",
    "\n",
    "import os,time\n",
    "\n",
    "\n",
    "def get_raw_distances(names='', state=1, selection='all', quiet=1):\n",
    "    from chempy import cpv\n",
    "\n",
    "    state, quiet = int(state), int(quiet)\n",
    "    if state < 1:\n",
    "        state = cmd.get_state()\n",
    "\n",
    "    valid_names = cmd.get_names_of_type('object:measurement')\n",
    "    if names == '':\n",
    "        names = ' '.join(valid_names)\n",
    "    else:\n",
    "        for name in names.split():\n",
    "            if name not in valid_names:\n",
    "                print(' Error: no such distance object: ' + name)\n",
    "                raise CmdException\n",
    "\n",
    "    raw_objects = cmd.get_session(names, 1, 1, 0, 0)['names']\n",
    "\n",
    "    xyz2idx = {}\n",
    "    cmd.iterate_state(state, selection, 'xyz2idx[x,y,z] = (model,index)',space=locals())\n",
    "\n",
    "    r = []\n",
    "    for obj in raw_objects:\n",
    "        try:\n",
    "            points = obj[5][2][state - 1][1]\n",
    "            if points is None:\n",
    "                raise ValueError\n",
    "        except (KeyError, ValueError, IndexError):\n",
    "            continue\n",
    "        for i in range(0, len(points), 6):\n",
    "            xyz1 = tuple(points[i:i + 3])\n",
    "            xyz2 = tuple(points[i + 3:i + 6])\n",
    "            try:\n",
    "                r.append((xyz2idx[xyz1], xyz2idx[xyz2], cpv.distance(xyz1, xyz2)))\n",
    "                if not quiet:\n",
    "                    print(' get_raw_distances: ' + str(r[-1]))\n",
    "            except KeyError:\n",
    "                if quiet < 0:\n",
    "                    print(' Debug: no index for %s %s' % (xyz1, xyz2))\n",
    "    return r"
   ]
  },
  {
   "cell_type": "code",
   "execution_count": 2,
   "metadata": {},
   "outputs": [
    {
     "data": {
      "text/plain": [
       "Index(['index', 'name', 'EC number', 'sequence'], dtype='object')"
      ]
     },
     "execution_count": 2,
     "metadata": {},
     "output_type": "execute_result"
    }
   ],
   "source": [
    "# import dataframe\n",
    "overall_df = pd.read_csv(\"overall_results.csv\")\n",
    "overall_df.columns"
   ]
  },
  {
   "cell_type": "code",
   "execution_count": 3,
   "metadata": {},
   "outputs": [],
   "source": [
    "# Calculate plddt\n",
    "template_list_plddt = []\n",
    "for index in overall_df[\"index\"]:\n",
    "    f_json = open(\"SPC_summary/%s/ranking_debug.json\"%index,\"r\")\n",
    "    json_dict = json.load(f_json)\n",
    "    if [index,json_dict[\"plddts\"][\"model_1_ptm\"],json_dict[\"plddts\"][\"model_2_ptm\"]] not in template_list_plddt:\n",
    "        template_list_plddt.append([index,json_dict[\"plddts\"][\"model_1_ptm\"],json_dict[\"plddts\"][\"model_2_ptm\"]])\n",
    "template_df_plddt = pd.DataFrame(template_list_plddt,columns=[\"index\",\"model_1_ptm_plddt\",\"model_2_ptm_plddt\"])\n",
    "overall_df = overall_df.merge(template_df_plddt,how=\"left\",on=\"index\")"
   ]
  },
  {
   "cell_type": "code",
   "execution_count": 4,
   "metadata": {},
   "outputs": [
    {
     "name": "stdout",
     "output_type": "stream",
     "text": [
      " PyMOL not running, entering library mode (experimental)\n",
      "155/155"
     ]
    }
   ],
   "source": [
    "# Calculate protein properties\n",
    "disul_list = []\n",
    "hbond_list = []\n",
    "sbrge_list = []\n",
    "surf__list = []\n",
    "sasa__list = []\n",
    "sstrc_list = []\n",
    "for i in range(overall_df.shape[0]):\n",
    "    cmd.load(\"SPC_summary/%s/unrelaxed_model_1_ptm.pdb\"%overall_df[\"index\"][i],\"%s_1\"%overall_df[\"index\"][i])   # load pdb file\n",
    "\n",
    "    cmd.distance(\"disul\",\"name SG\",\"name SG\",cutoff=2.1)     # disulfide bond\n",
    "    cmd.distance(\"hbond\",\"all\",\"all\",mode=2)                 # hydrogen bond\n",
    "    cmd.distance(\"saltbridge\",\"(resn ASP and name OD2) or (resn GLU and name OD2)\",\"(resn ARG and (name NH1 or name NH2)) or (resn LYS and name NZ) or (resn HIS and name NE2)\",cutoff=4)  # salt bridge\n",
    "    cmd.dss()\n",
    "    ss_string = \"\"\n",
    "    for a in cmd.get_model(overall_df[\"index\"][i] +\" and n. ca\").atom:\n",
    "        ss_string = ss_string+a.ss \n",
    "    \n",
    "    \n",
    "    \n",
    "    disul_list.append(len(get_raw_distances(\"disul\")))       # disulfide bond\n",
    "    hbond_list.append(len(get_raw_distances(\"hbond\")))       # hydrogen bond\n",
    "    sbrge_list.append(len(get_raw_distances(\"saltbridge\")))  # salt bridge\n",
    "    surf__list.append(cmd.get_area('all'))                   # protein surface\n",
    "    cmd.set('dot_solvent',1)\n",
    "    sasa__list.append(cmd.get_area('all'))                   # SASA\n",
    "    sstrc_list.append(ss_string)                             # secondary structure\n",
    "\n",
    "\n",
    "    cmd.reinitialize()\n",
    "    print(\"\\r%d/%d\"%(i+1,overall_df.shape[0]),end=\"\")\n"
   ]
  },
  {
   "cell_type": "code",
   "execution_count": 5,
   "metadata": {},
   "outputs": [],
   "source": [
    "# Add calculated data to dataframe\n",
    "overall_df[\"disulfide_bond\"] = disul_list\n",
    "overall_df[\"hydrogen_bond\"] = hbond_list\n",
    "overall_df[\"salt_bridge\"] = sbrge_list\n",
    "overall_df[\"surface\"] = surf__list\n",
    "overall_df[\"SASA\"] = sasa__list\n",
    "overall_df[\"secondary_structure\"] = sstrc_list\n"
   ]
  },
  {
   "cell_type": "code",
   "execution_count": 6,
   "metadata": {},
   "outputs": [],
   "source": [
    "overall_df.to_csv(\"total_results.csv\",index=False)"
   ]
  },
  {
   "cell_type": "code",
   "execution_count": 10,
   "metadata": {},
   "outputs": [
    {
     "name": "stdout",
     "output_type": "stream",
     "text": [
      "RMSD calculation of index: 154\n",
      "Total timing:  482.54947543144226\n"
     ]
    }
   ],
   "source": [
    "# Calculate RMSD\n",
    "index_total = overall_df.shape[0]\n",
    "RMSDa_mat = np.zeros((index_total,index_total))\n",
    "align_mat = np.zeros((index_total,index_total))\n",
    "\n",
    "\n",
    "start_time = time.time()\n",
    "\n",
    "for index in range(index_total):\n",
    "    print(\"\\rRMSD calculation of index: %d\"%index,end=\"\")\n",
    "    protein_index = \"SPC_%d\"%(index+1)\n",
    "    for index2 in range(index+1,index_total):\n",
    "        protein_index2 = \"SPC_%d\"%(index2+1)\n",
    "        cmd.load(\"SPC_summary/%s/unrelaxed_model_1_ptm.pdb\"%protein_index,\"Query\")\n",
    "        cmd.load(\"SPC_summary/%s/unrelaxed_model_1_ptm.pdb\"%protein_index2,\"Iterate\")\n",
    "        align_para = cmd.align(\"Query\",\"Iterate\",cycles=5)\n",
    "        RMSDa_mat[index,index2] = align_para[0]\n",
    "        RMSDa_mat[index2,index] = align_para[0]\n",
    "        align_mat[index,index2] = align_para[1]\n",
    "        align_mat[index2,index] = align_para[1]\n",
    "        cmd.reinitialize()\n",
    "\n",
    "end_time = time.time() - start_time\n",
    "print(\"\\nTotal timing: \",end_time)"
   ]
  },
  {
   "cell_type": "code",
   "execution_count": 7,
   "metadata": {},
   "outputs": [
    {
     "data": {
      "text/plain": [
       "1.2.7.11    31\n",
       "4.2.1.11    24\n",
       "2.7.2.3     24\n",
       "1.2.1.59    22\n",
       "5.3.1.1     21\n",
       "5.4.2.12    19\n",
       "2.7.1.40    14\n",
       "Name: EC number, dtype: int64"
      ]
     },
     "execution_count": 7,
     "metadata": {},
     "output_type": "execute_result"
    }
   ],
   "source": [
    "EC_list = [\"1.2.7.11\",\"2.7.2.3\",\"4.2.1.11\",\"1.2.1.59\",\"5.3.1.1\",\"5.4.2.12\",\"2.7.1.40\"]\n",
    "overall_df[\"EC number\"].value_counts()\n"
   ]
  },
  {
   "cell_type": "code",
   "execution_count": 8,
   "metadata": {},
   "outputs": [],
   "source": [
    "first_index = overall_df[overall_df[\"EC number\"] == \"1.2.1.59\"][\"index\"].values[0]\n",
    "align_list = []\n",
    "for index in overall_df[overall_df[\"EC number\"] == \"1.2.1.59\"][\"index\"]:\n",
    "    cmd.load(\"SPC_summary/%s/unrelaxed_model_1_ptm.pdb\"%index,index)\n",
    "    align_para = cmd.align(index,first_index,cycles=5)\n",
    "    align_list.append(align_para)\n",
    "cmd.cartoon(\"loop\")\n",
    "cmd.color(\"skyblue\")\n",
    "cmd.ray()\n",
    "cmd.save(\"1.2.1.59.png\")\n",
    "cmd.reinitialize()\n"
   ]
  },
  {
   "cell_type": "code",
   "execution_count": 11,
   "metadata": {},
   "outputs": [],
   "source": [
    "for EC_number in EC_list:\n",
    "    first_index = overall_df[overall_df[\"EC number\"] == EC_number][\"index\"].values[0]\n",
    "    align_list = []\n",
    "    for index in overall_df[overall_df[\"EC number\"] == EC_number][\"index\"]:\n",
    "        cmd.load(\"SPC_summary/%s/unrelaxed_model_1_ptm.pdb\"%index,index)\n",
    "        align_para = cmd.align(index,first_index,cycles=5)\n",
    "        align_list.append(align_para)\n",
    "    cmd.cartoon(\"loop\")\n",
    "    cmd.color(\"skyblue\")\n",
    "    cmd.ray()\n",
    "    cmd.save(\"%s.png\"%EC_number)\n",
    "    cmd.reinitialize()"
   ]
  },
  {
   "cell_type": "code",
   "execution_count": 9,
   "metadata": {},
   "outputs": [
    {
     "data": {
      "text/plain": [
       "TACK_Korarchaeum_cryptofilum_OPF8_WP_012310248.1                         1\n",
       "Thermodesulfobacteria_Thermodesulfatator_indicus_DSM_15286_AEH45865.1    1\n",
       "Asgard_Ca_Prometheoarchaeum_syntrophicum_MKD1_QEE14264.1                 1\n",
       "Eury_Ca_Hadesarchaea_archaeon_B3Hades_TKJ26909.1                         1\n",
       "TACK_Korarchaeum_cryptofilum_OPF8_WP_012310111.1                         1\n",
       "                                                                        ..\n",
       "Asgard_Ca_Heimdallarchaeota_archaeon_B3Heim_PWI47748.1                   1\n",
       "DPANN_Diapherotrites_CG_4_10_14_0_2_um_filter_31_5_PFQC01000198.1_2      1\n",
       "Asgard_Ca_Prometheoarchaeum_syntrophicum_MKD1_QEE16088.1                 1\n",
       "Fusobacteria_Leptotrichia_goodfellowii_DSM_19756_KI911785.1_41           1\n",
       "Fusobacteria_Leptotrichia_goodfellowii_DSM_19756_KI911785.1_493          1\n",
       "Name: name, Length: 155, dtype: int64"
      ]
     },
     "execution_count": 9,
     "metadata": {},
     "output_type": "execute_result"
    }
   ],
   "source": [
    "overall_df[\"name\"].value_counts()\n"
   ]
  },
  {
   "cell_type": "code",
   "execution_count": 15,
   "metadata": {},
   "outputs": [
    {
     "data": {
      "text/plain": [
       "Int64Index([  1,   8,  18,  19,  25,  28,  37,  45,  54,  73,  79,  88,  96,\n",
       "            105, 112, 117, 125, 130, 131, 139, 145, 151],\n",
       "           dtype='int64')"
      ]
     },
     "execution_count": 15,
     "metadata": {},
     "output_type": "execute_result"
    }
   ],
   "source": [
    "overall_df[overall_df[\"EC number\"] == \"1.2.1.59\"].index"
   ]
  },
  {
   "cell_type": "code",
   "execution_count": 38,
   "metadata": {},
   "outputs": [
    {
     "data": {
      "text/plain": [
       "Text(0.5, 1.0, 'RMSD: 1.2.1.59')"
      ]
     },
     "execution_count": 38,
     "metadata": {},
     "output_type": "execute_result"
    },
    {
     "data": {
      "image/png": "[encoded data removed]",
      "text/plain": [
       "<Figure size 432x288 with 2 Axes>"
      ]
     },
     "metadata": {
      "needs_background": "light"
     },
     "output_type": "display_data"
    }
   ],
   "source": [
    "plt.imshow(RMSDa_mat[overall_df[overall_df[\"EC number\"] == \"1.2.1.59\"].index][:,overall_df[overall_df[\"EC number\"] == \"1.2.1.59\"].index],vmin=0,vmax=6)\n",
    "plt.colorbar()\n",
    "plt.title(\"RMSD: 1.2.1.59\")"
   ]
  },
  {
   "cell_type": "code",
   "execution_count": 47,
   "metadata": {},
   "outputs": [],
   "source": [
    "for EC_number in EC_list:\n",
    "    plt.imshow(RMSDa_mat[overall_df[overall_df[\"EC number\"] == EC_number].index][:,overall_df[overall_df[\"EC number\"] == EC_number].index],vmin=0,vmax=6)\n",
    "    plt.colorbar()\n",
    "    plt.title(\"RMSD: %s\"%EC_number)\n",
    "    plt.savefig(\"RMSD_heat_%s.png\"%EC_number)\n",
    "    plt.close()"
   ]
  },
  {
   "cell_type": "code",
   "execution_count": 44,
   "metadata": {},
   "outputs": [
    {
     "data": {
      "text/plain": [
       "Int64Index([  1,   8,  18,  19,  25,  28,  37,  45,  54,  73,  79,  88,  96,\n",
       "            105, 112, 117, 125, 130, 131, 139, 145, 151],\n",
       "           dtype='int64')"
      ]
     },
     "execution_count": 44,
     "metadata": {},
     "output_type": "execute_result"
    }
   ],
   "source": [
    "overall_df[overall_df[\"EC number\"] == \"1.2.1.59\"].index"
   ]
  },
  {
   "cell_type": "code",
   "execution_count": 49,
   "metadata": {},
   "outputs": [],
   "source": [
    "index_list = [\"SPC_2\",\"SPC_20\",\"SPC_38\",\"SPC_46\",\"SPC_74\"]\n",
    "align_list = []\n",
    "for index in index_list:\n",
    "    cmd.load(\"SPC_summary/%s/unrelaxed_model_1_ptm.pdb\"%index,index)\n",
    "    align_para = cmd.align(index,first_index,cycles=5)\n",
    "    align_list.append(align_para)\n",
    "cmd.cartoon(\"loop\")\n",
    "cmd.color(\"skyblue\")\n",
    "cmd.ray()\n",
    "cmd.save(\"1.2.1.59_2.png\")\n",
    "cmd.reinitialize()\n"
   ]
  },
  {
   "cell_type": "code",
   "execution_count": 51,
   "metadata": {},
   "outputs": [
    {
     "data": {
      "text/plain": [
       "Text(0.5, 1.0, 'RMSD: 1.2.1.59')"
      ]
     },
     "execution_count": 51,
     "metadata": {},
     "output_type": "execute_result"
    },
    {
     "data": {
      "image/png": "[encoded data removed]",
      "text/plain": [
       "<Figure size 432x288 with 2 Axes>"
      ]
     },
     "metadata": {
      "needs_background": "light"
     },
     "output_type": "display_data"
    }
   ],
   "source": [
    "plt.imshow(RMSDa_mat[[1,19,37,45,73]][:,[1,19,37,45,73]],vmin=0,vmax=6)\n",
    "plt.colorbar()\n",
    "plt.title(\"RMSD: 1.2.1.59\")"
   ]
  },
  {
   "cell_type": "code",
   "execution_count": null,
   "metadata": {},
   "outputs": [],
   "source": []
  }
 ],
 "metadata": {
  "interpreter": {
   "hash": "a8f61be024eba58adef938c9aa1e29e02cb3dece83a5348b1a2dafd16a070453"
  },
  "kernelspec": {
   "display_name": "Python 3.6.5 64-bit ('base': conda)",
   "name": "python3"
  },
  "language_info": {
   "codemirror_mode": {
    "name": "ipython",
    "version": 3
   },
   "file_extension": ".py",
   "mimetype": "text/x-python",
   "name": "python",
   "nbconvert_exporter": "python",
   "pygments_lexer": "ipython3",
   "version": "3.6.5"
  },
  "orig_nbformat": 4
 },
 "nbformat": 4,
 "nbformat_minor": 2
}
