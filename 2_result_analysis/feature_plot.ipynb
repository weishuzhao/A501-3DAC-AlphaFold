{
 "cells": [
  {
   "cell_type": "code",
   "execution_count": 1,
   "source": [
    "from pymol import cmd\r\n",
    "import sys\r\n",
    "import pandas as pd\r\n",
    "import matplotlib.pyplot as plt\r\n",
    "import numpy as np\r\n",
    "import seaborn as sns"
   ],
   "outputs": [],
   "metadata": {}
  },
  {
   "cell_type": "code",
   "execution_count": 2,
   "source": [
    "avaiable_DF = pd.read_csv(\"available_result.csv\")"
   ],
   "outputs": [],
   "metadata": {}
  },
  {
   "cell_type": "code",
   "execution_count": 3,
   "source": [
    "for i in range(avaiable_DF.shape[0]):\r\n",
    "    cmd.load(\"A501/A501_summary/%s/relaxed_model_1.pdb\"%avaiable_DF[\"A501_sequence_id\"][i],\"A501\")\r\n",
    "    cmd.load(\"3DAC/3DAC_summary/%s/relaxed_model_1.pdb\"%avaiable_DF[\"3DAC_sequence_id\"][i],\"3DAC\")\r\n",
    "    cmd.align(\"A501\",\"3DAC\")\r\n",
    "    cmd.color(\"firebrick\",\"A501\")\r\n",
    "    cmd.color(\"skyblue\",\"3DAC\")\r\n",
    "    cmd.ray()\r\n",
    "    cmd.save(\"Figure/Protein/%s_%s.png\"%(avaiable_DF[\"A501_sequence_id\"][i],avaiable_DF[\"3DAC_sequence_id\"][i]))\r\n",
    "    cmd.reinitialize()\r\n",
    "    print(i,end=\",\")"
   ],
   "outputs": [
    {
     "output_type": "stream",
     "name": "stdout",
     "text": [
      " PyMOL not running, entering library mode (experimental)\n",
      "0,1,2,3,4,5,6,7,8,9,10,11,12,13,14,15,16,17,18,19,20,21,22,23,24,25,26,27,28,29,30,31,32,33,34,35,36,37,38,39,40,41,42,43,44,45,46,47,48,49,50,51,52,53,54,55,56,57,58,59,60,61,62,63,64,65,66,67,68,69,70,71,72,73,74,75,76,77,78,79,80,81,82,83,84,85,86,87,88,89,90,91,92,93,94,95,96,97,98,99,100,101,102,103,104,105,106,107,108,109,110,111,112,113,114,115,116,117,118,119,120,121,122,123,124,125,126,127,128,129,130,131,132,133,134,135,136,137,138,139,140,141,142,143,144,145,146,147,148,149,150,151,152,153,154,155,156,157,158,159,160,161,162,163,164,165,166,167,168,169,170,171,172,173,174,175,176,177,178,179,180,181,182,183,184,185,186,187,188,189,190,191,192,193,194,195,196,197,198,199,200,201,202,203,204,205,206,207,208,209,210,211,212,213,214,215,216,217,218,219,220,221,222,223,224,225,226,227,228,229,230,231,232,233,234,235,236,237,238,239,240,241,242,243,244,245,246,247,248,249,250,251,252,253,254,255,256,257,258,259,260,261,262,263,264,265,266,267,268,269,270,271,272,273,274,"
     ]
    }
   ],
   "metadata": {}
  },
  {
   "cell_type": "code",
   "execution_count": 6,
   "source": [
    "for i in [90,208]:\r\n",
    "    cmd.load(\"A501/A501_summary/%s/relaxed_model_1.pdb\"%avaiable_DF[\"A501_sequence_id\"][i],\"A501\")\r\n",
    "    cmd.load(\"3DAC/3DAC_summary/%s/relaxed_model_1.pdb\"%avaiable_DF[\"3DAC_sequence_id\"][i],\"3DAC\")\r\n",
    "    cmd.align(\"A501\",\"3DAC\")\r\n",
    "    cmd.distance(\"saltbridge\",\"A501 and ((resn ASP and name OD2) or (resn GLU and name OD2))\",\"(A501 and (resn ARG and (name NH1 or name NH2)) or (resn LYS and name NZ) or (resn HIS and name NE2))\",cutoff=4)\r\n",
    "    cmd.distance(\"saltbridge\",\"3DAC and ((resn ASP and name OD2) or (resn GLU and name OD2))\",\"(3DAC and (resn ARG and (name NH1 or name NH2)) or (resn LYS and name NZ) or (resn HIS and name NE2))\",cutoff=4)\r\n",
    "    cmd.hide(\"label\")\r\n",
    "    cmd.color(\"firebrick\",\"A501\")\r\n",
    "    cmd.color(\"skyblue\",\"3DAC\")\r\n",
    "    cmd.ray()\r\n",
    "    cmd.save(\"Figure/Protein/Salt_Bridge_%s_%s.png\"%(avaiable_DF[\"A501_sequence_id\"][i],avaiable_DF[\"3DAC_sequence_id\"][i]))\r\n",
    "    cmd.reinitialize()\r\n",
    "    print(i,end=\",\")"
   ],
   "outputs": [
    {
     "output_type": "stream",
     "name": "stdout",
     "text": [
      "90,208,"
     ]
    }
   ],
   "metadata": {}
  },
  {
   "cell_type": "code",
   "execution_count": null,
   "source": [],
   "outputs": [],
   "metadata": {}
  }
 ],
 "metadata": {
  "orig_nbformat": 4,
  "language_info": {
   "name": "python",
   "version": "3.6.5",
   "mimetype": "text/x-python",
   "codemirror_mode": {
    "name": "ipython",
    "version": 3
   },
   "pygments_lexer": "ipython3",
   "nbconvert_exporter": "python",
   "file_extension": ".py"
  },
  "kernelspec": {
   "name": "python3",
   "display_name": "Python 3.6.5 64-bit ('base': conda)"
  },
  "interpreter": {
   "hash": "a8f61be024eba58adef938c9aa1e29e02cb3dece83a5348b1a2dafd16a070453"
  }
 },
 "nbformat": 4,
 "nbformat_minor": 2
}